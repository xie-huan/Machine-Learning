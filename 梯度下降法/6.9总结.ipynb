{
 "cells": [
  {
   "cell_type": "markdown",
   "metadata": {},
   "source": [
    "# 梯度下降法\n",
    "- 批量梯度下降法(BGD)\n",
    "    - 每次都要调用所有样本\n",
    "    - 每次求解速度慢，但是稳定，一定朝着梯度下降最快的方向前进\n",
    "- 随机梯度下降法(SGD, Stochastic GD)\n",
    "    - 每次只看一个样本\n",
    "    - 不稳定\n",
    "- 小批量梯度下降法\n",
    "    - 综合上述两种方法的优点"
   ]
  },
  {
   "cell_type": "markdown",
   "metadata": {},
   "source": [
    "# 随机\n",
    "- 更快的运行速度\n",
    "- 跳出局部最优解\n",
    "- 机器学习领域很多算法都要使用随机的特点：\n",
    "    - 随机搜索\n",
    "    - 随机森林"
   ]
  },
  {
   "cell_type": "markdown",
   "metadata": {},
   "source": [
    "# 梯度下降法\n",
    "- 不是一个机器学习算法\n",
    "- 是一种基于搜索的最优化方法\n",
    "- 作用：最小化一个损失函数\n",
    "- 梯度上升法：最大化一个效用函数"
   ]
  },
  {
   "cell_type": "code",
   "execution_count": null,
   "metadata": {},
   "outputs": [],
   "source": []
  }
 ],
 "metadata": {
  "kernelspec": {
   "display_name": "Python 3",
   "language": "python",
   "name": "python3"
  },
  "language_info": {
   "codemirror_mode": {
    "name": "ipython",
    "version": 3
   },
   "file_extension": ".py",
   "mimetype": "text/x-python",
   "name": "python",
   "nbconvert_exporter": "python",
   "pygments_lexer": "ipython3",
   "version": "3.7.4"
  }
 },
 "nbformat": 4,
 "nbformat_minor": 2
}
