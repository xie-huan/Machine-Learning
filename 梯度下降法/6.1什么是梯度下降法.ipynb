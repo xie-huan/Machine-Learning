{
 "cells": [
  {
   "cell_type": "markdown",
   "metadata": {},
   "source": [
    "# 梯度下降法\n",
    "- 不是一个机器学习方法\n",
    "- 是一种基于搜索的最优化方法\n",
    "- 作用：最小化一个损失函数\n",
    "- 梯度上升法：最大化一个效用函数\n",
    "![](梯度下降法.png)\n",
    "![](学习率.png)\n",
    "![](学习率太小.png)\n",
    "![](学习率太大.png)"
   ]
  },
  {
   "cell_type": "markdown",
   "metadata": {},
   "source": [
    "# 梯度下降可能找不到全局最优解\n",
    "![](最优解.png)\n",
    "解决方案：\n",
    "- 多次运行，随机初始点\n",
    "- 梯度下降法的初始点也是一个超参数"
   ]
  },
  {
   "cell_type": "markdown",
   "metadata": {},
   "source": [
    "![](线性回归使用梯度下降.png)"
   ]
  },
  {
   "cell_type": "code",
   "execution_count": null,
   "metadata": {},
   "outputs": [],
   "source": []
  }
 ],
 "metadata": {
  "kernelspec": {
   "display_name": "Python 3",
   "language": "python",
   "name": "python3"
  },
  "language_info": {
   "codemirror_mode": {
    "name": "ipython",
    "version": 3
   },
   "file_extension": ".py",
   "mimetype": "text/x-python",
   "name": "python",
   "nbconvert_exporter": "python",
   "pygments_lexer": "ipython3",
   "version": "3.7.4"
  }
 },
 "nbformat": 4,
 "nbformat_minor": 2
}
