{
 "cells": [
  {
   "cell_type": "markdown",
   "metadata": {},
   "source": [
    "# 模型正则化Regularization\n",
    "\n",
    "模型正则化：限制参数的大小"
   ]
  },
  {
   "cell_type": "code",
   "execution_count": 2,
   "metadata": {},
   "outputs": [],
   "source": [
    "from sklearn.pipeline import Pipeline\n",
    "from sklearn.preprocessing import PolynomialFeatures\n",
    "from sklearn.preprocessing import StandardScaler\n",
    "from sklearn.linear_model import LinearRegression\n",
    "\n",
    "lin_reg = LinearRegression()\n",
    "def PolyReg(degree):\n",
    "    return Pipeline([\n",
    "        (\"ploy\",PolynomialFeatures(degree=degree)),\n",
    "        (\"std_scalar\",StandardScaler()),\n",
    "        (\"lin_reg\",lin_reg)\n",
    "    ])"
   ]
  },
  {
   "cell_type": "code",
   "execution_count": 3,
   "metadata": {},
   "outputs": [],
   "source": [
    "from sklearn.metrics import mean_squared_error"
   ]
  },
  {
   "cell_type": "code",
   "execution_count": 4,
   "metadata": {},
   "outputs": [],
   "source": [
    "import numpy as np\n",
    "import matplotlib.pyplot as plt\n",
    "np.random.seed(666)\n",
    "x = np.random.uniform(-3,3,size=100)\n",
    "X = x.reshape(-1,1)\n",
    "y = 0.5 * x**2 + x + 2 + np.random.normal(0,1,size=100)"
   ]
  },
  {
   "cell_type": "code",
   "execution_count": 6,
   "metadata": {},
   "outputs": [],
   "source": [
    "from sklearn.model_selection import train_test_split\n",
    "X_train,X_test,y_train,y_test = train_test_split(X,y,random_state=666)"
   ]
  },
  {
   "cell_type": "code",
   "execution_count": 8,
   "metadata": {},
   "outputs": [
    {
     "data": {
      "text/plain": [
       "14075796434.50641"
      ]
     },
     "execution_count": 8,
     "metadata": {},
     "output_type": "execute_result"
    }
   ],
   "source": [
    "# 多项式回归\n",
    "poly100_reg = PolyReg(degree=100)\n",
    "poly100_reg.fit(X_train,y_train)\n",
    "y100_predict = poly100_reg.predict(X_test)\n",
    "mean_squared_error(y_test,y100_predict)"
   ]
  },
  {
   "cell_type": "code",
   "execution_count": 9,
   "metadata": {},
   "outputs": [
    {
     "data": {
      "text/plain": [
       "array([ 1.32772947e+11,  1.62336964e+01,  9.44440994e+01, -9.23553073e+02,\n",
       "       -4.37590062e+03,  1.80162849e+04,  2.55540660e+04,  5.44553290e+03,\n",
       "        2.94210788e+06, -4.91285861e+06, -9.44092071e+07,  8.51207557e+07,\n",
       "        1.43562138e+09, -8.44559533e+08, -1.33965589e+10,  6.20493379e+09,\n",
       "        8.31526382e+10, -3.64701879e+10, -3.52611781e+11,  1.66179730e+11,\n",
       "        1.01296492e+12, -5.44794423e+11, -1.86379738e+12,  1.17004585e+12,\n",
       "        1.81178242e+12, -1.36347156e+12, -2.74046539e+10,  1.96618357e+11,\n",
       "       -1.54759638e+12,  1.25913369e+12,  2.14742767e+11, -3.88486221e+11,\n",
       "        1.42542067e+12, -1.28056117e+12,  3.01205877e+11, -1.26001588e+11,\n",
       "       -1.12939655e+12,  1.16126166e+12, -9.89310162e+11,  9.96042116e+11,\n",
       "        1.17978550e+11, -2.46283281e+11,  1.02512274e+12, -1.21407140e+12,\n",
       "        9.93801259e+11, -1.06265739e+12,  8.96466521e+10, -6.80297911e+10,\n",
       "       -6.78476549e+11,  9.22158418e+11, -9.79606157e+11,  1.23853634e+12,\n",
       "       -6.26140094e+11,  8.30206139e+11, -4.33830005e+10, -9.40962365e+10,\n",
       "        5.57924827e+11, -8.99924651e+11,  8.69591011e+11, -1.23083118e+12,\n",
       "        6.53731089e+11, -9.44332404e+11,  3.36791979e+11, -2.76404572e+11,\n",
       "       -1.49180155e+11,  5.25388804e+11, -6.31458710e+11,  1.08225069e+12,\n",
       "       -7.83864595e+11,  1.10659575e+12, -6.05470189e+11,  8.16747550e+11,\n",
       "       -2.77812067e+11,  1.20763757e+11,  1.05244866e+11, -4.78119074e+11,\n",
       "        5.02270984e+11, -1.07897885e+12,  6.42291601e+11, -1.08342747e+12,\n",
       "        6.67878512e+11, -7.62213788e+11,  4.33915430e+11, -1.79959357e+11,\n",
       "       -3.62701824e+10,  5.22944679e+11, -4.32167641e+11,  1.11617692e+12,\n",
       "       -7.22990040e+11,  1.06356370e+12, -6.71597756e+11,  6.26800532e+11,\n",
       "       -3.23023235e+11, -3.40669171e+11,  2.99624612e+11, -1.26573928e+12,\n",
       "        8.20764261e+11, -1.18966729e+12,  7.03191978e+11,  1.22833572e+12,\n",
       "       -7.85430702e+11])"
      ]
     },
     "execution_count": 9,
     "metadata": {},
     "output_type": "execute_result"
    }
   ],
   "source": [
    "lin_reg.coef_"
   ]
  },
  {
   "cell_type": "markdown",
   "metadata": {},
   "source": [
    "### 上面的第一个系数1.32772947e+11非常大\n",
    "![](模型正则化.png)"
   ]
  },
  {
   "cell_type": "markdown",
   "metadata": {},
   "source": [
    "theta0不需要加入，因为theta0与曲线陡峭程度不同    \n",
    "加入1/2的原因，是因为要求导，与1/2抵消，方便计算  \n",
    "α是新的超参数，指的是后面一坨占目标函数的比值"
   ]
  },
  {
   "cell_type": "markdown",
   "metadata": {},
   "source": [
    "![](岭回归.png)"
   ]
  },
  {
   "cell_type": "code",
   "execution_count": 10,
   "metadata": {},
   "outputs": [],
   "source": [
    "import numpy as np\n",
    "import matplotlib.pyplot as plt\n",
    "np.random.seed(42)\n",
    "x = np.random.uniform(-3,3,size=100)\n",
    "X = x.reshape(-1,1)\n",
    "y = 0.5 * x + 3 + np.random.normal(0,1,size=100)"
   ]
  },
  {
   "cell_type": "code",
   "execution_count": 11,
   "metadata": {},
   "outputs": [
    {
     "data": {
      "image/png": "[encoded data removed]",
      "text/plain": [
       "<Figure size 432x288 with 1 Axes>"
      ]
     },
     "metadata": {
      "needs_background": "light"
     },
     "output_type": "display_data"
    }
   ],
   "source": [
    "plt.scatter(x,y)\n",
    "plt.show()"
   ]
  },
  {
   "cell_type": "code",
   "execution_count": 12,
   "metadata": {},
   "outputs": [],
   "source": [
    "from sklearn.pipeline import Pipeline\n",
    "from sklearn.preprocessing import PolynomialFeatures\n",
    "from sklearn.preprocessing import StandardScaler\n",
    "from sklearn.linear_model import LinearRegression\n",
    "\n",
    "lin_reg = LinearRegression()\n",
    "def PolyReg(degree):\n",
    "    return Pipeline([\n",
    "        (\"ploy\",PolynomialFeatures(degree=degree)),\n",
    "        (\"std_scalar\",StandardScaler()),\n",
    "        (\"lin_reg\",lin_reg)\n",
    "    ])"
   ]
  },
  {
   "cell_type": "code",
   "execution_count": 13,
   "metadata": {},
   "outputs": [],
   "source": [
    "from sklearn.model_selection import train_test_split\n",
    "X_train,X_test,y_train,y_test = train_test_split(X,y,random_state=666)"
   ]
  },
  {
   "cell_type": "code",
   "execution_count": 14,
   "metadata": {},
   "outputs": [
    {
     "data": {
      "text/plain": [
       "2955843907.327353"
      ]
     },
     "execution_count": 14,
     "metadata": {},
     "output_type": "execute_result"
    }
   ],
   "source": [
    "from sklearn.metrics import mean_squared_error\n",
    "# 多项式回归\n",
    "poly20_reg = PolyReg(degree=20)\n",
    "poly20_reg.fit(X_train,y_train)\n",
    "y20_predict = poly100_reg.predict(X_test)\n",
    "mean_squared_error(y_test,y20_predict)"
   ]
  },
  {
   "cell_type": "code",
   "execution_count": 15,
   "metadata": {},
   "outputs": [
    {
     "data": {
      "image/png": "[encoded data removed]",
      "text/plain": [
       "<Figure size 432x288 with 1 Axes>"
      ]
     },
     "metadata": {
      "needs_background": "light"
     },
     "output_type": "display_data"
    }
   ],
   "source": [
    "X_plot = np.linspace(-3,3,100).reshape(100,1)\n",
    "y_plot = poly20_reg.predict(X_plot)\n",
    "\n",
    "plt.scatter(x,y)\n",
    "plt.plot(X_plot[:,0],y_plot,color='r')\n",
    "plt.axis([-3,3,-1,10])\n",
    "plt.show()"
   ]
  },
  {
   "cell_type": "code",
   "execution_count": 16,
   "metadata": {},
   "outputs": [
    {
     "data": {
      "image/png": "[encoded data removed]",
      "text/plain": [
       "<Figure size 432x288 with 1 Axes>"
      ]
     },
     "metadata": {
      "needs_background": "light"
     },
     "output_type": "display_data"
    }
   ],
   "source": [
    "def plot_model(model):\n",
    "    X_plot = np.linspace(-3,3,100).reshape(100,1)\n",
    "    y_plot = model.predict(X_plot)\n",
    "\n",
    "    plt.scatter(x,y)\n",
    "    plt.plot(X_plot[:,0],y_plot,color='r')\n",
    "    plt.axis([-3,3,-1,10])\n",
    "    plt.show()\n",
    "\n",
    "plot_model(poly20_reg)"
   ]
  },
  {
   "cell_type": "markdown",
   "metadata": {},
   "source": [
    "## 使用岭回归"
   ]
  },
  {
   "cell_type": "code",
   "execution_count": 17,
   "metadata": {},
   "outputs": [],
   "source": [
    "from sklearn.linear_model import Ridge"
   ]
  },
  {
   "cell_type": "code",
   "execution_count": 18,
   "metadata": {},
   "outputs": [],
   "source": [
    "ridge = Ridge(alpha=1)"
   ]
  },
  {
   "cell_type": "code",
   "execution_count": 25,
   "metadata": {},
   "outputs": [],
   "source": [
    "def RidgeReg(degree,alpha):\n",
    "    return Pipeline([\n",
    "        (\"ploy\",PolynomialFeatures(degree=degree)),\n",
    "        (\"std_scalar\",StandardScaler()),\n",
    "        (\"ridge_reg\",Ridge(alpha=alpha))\n",
    "    ])"
   ]
  },
  {
   "cell_type": "code",
   "execution_count": 26,
   "metadata": {},
   "outputs": [
    {
     "data": {
      "text/plain": [
       "1.3233492754136291"
      ]
     },
     "execution_count": 26,
     "metadata": {},
     "output_type": "execute_result"
    }
   ],
   "source": [
    "ridge1 = RidgeReg(20,0.0001)\n",
    "ridge1.fit(X_train,y_train)\n",
    "\n",
    "y1_predict = ridge2.predict(X_test)\n",
    "mean_squared_error(y_test,y1_predict)"
   ]
  },
  {
   "cell_type": "code",
   "execution_count": 27,
   "metadata": {},
   "outputs": [
    {
     "data": {
      "image/png": "[encoded data removed]",
      "text/plain": [
       "<Figure size 432x288 with 1 Axes>"
      ]
     },
     "metadata": {
      "needs_background": "light"
     },
     "output_type": "display_data"
    }
   ],
   "source": [
    "plot_model(ridge1)"
   ]
  },
  {
   "cell_type": "code",
   "execution_count": 28,
   "metadata": {},
   "outputs": [
    {
     "data": {
      "text/plain": [
       "1.3233492754136291"
      ]
     },
     "execution_count": 28,
     "metadata": {},
     "output_type": "execute_result"
    }
   ],
   "source": [
    "ridge2 = RidgeReg(20,1)\n",
    "ridge2.fit(X_train,y_train)\n",
    "\n",
    "y2_predict = ridge3.predict(X_test)\n",
    "mean_squared_error(y_test,y2_predict)"
   ]
  },
  {
   "cell_type": "code",
   "execution_count": 29,
   "metadata": {},
   "outputs": [
    {
     "data": {
      "image/png": "[encoded data removed]",
      "text/plain": [
       "<Figure size 432x288 with 1 Axes>"
      ]
     },
     "metadata": {
      "needs_background": "light"
     },
     "output_type": "display_data"
    }
   ],
   "source": [
    "plot_model(ridge2)"
   ]
  },
  {
   "cell_type": "code",
   "execution_count": 30,
   "metadata": {},
   "outputs": [
    {
     "data": {
      "text/plain": [
       "1.3233492754136291"
      ]
     },
     "execution_count": 30,
     "metadata": {},
     "output_type": "execute_result"
    }
   ],
   "source": [
    "ridge3 = RidgeReg(20,100)\n",
    "ridge3.fit(X_train,y_train)\n",
    "\n",
    "y3_predict = ridge3.predict(X_test)\n",
    "mean_squared_error(y_test,y3_predict)"
   ]
  },
  {
   "cell_type": "code",
   "execution_count": 31,
   "metadata": {},
   "outputs": [
    {
     "data": {
      "image/png": "[encoded data removed]",
      "text/plain": [
       "<Figure size 432x288 with 1 Axes>"
      ]
     },
     "metadata": {
      "needs_background": "light"
     },
     "output_type": "display_data"
    }
   ],
   "source": [
    "plot_model(ridge3)"
   ]
  },
  {
   "cell_type": "code",
   "execution_count": 32,
   "metadata": {},
   "outputs": [
    {
     "data": {
      "text/plain": [
       "1.8360988778885547"
      ]
     },
     "execution_count": 32,
     "metadata": {},
     "output_type": "execute_result"
    }
   ],
   "source": [
    "ridge4 = RidgeReg(20,100000)\n",
    "ridge4.fit(X_train,y_train)\n",
    "\n",
    "y4_predict = ridge4.predict(X_test)\n",
    "mean_squared_error(y_test,y4_predict)"
   ]
  },
  {
   "cell_type": "code",
   "execution_count": 33,
   "metadata": {},
   "outputs": [
    {
     "data": {
      "image/png": "[encoded data removed]",
      "text/plain": [
       "<Figure size 432x288 with 1 Axes>"
      ]
     },
     "metadata": {
      "needs_background": "light"
     },
     "output_type": "display_data"
    }
   ],
   "source": [
    "plot_model(ridge4)"
   ]
  },
  {
   "cell_type": "code",
   "execution_count": null,
   "metadata": {},
   "outputs": [],
   "source": []
  }
 ],
 "metadata": {
  "kernelspec": {
   "display_name": "Python 3",
   "language": "python",
   "name": "python3"
  },
  "language_info": {
   "codemirror_mode": {
    "name": "ipython",
    "version": 3
   },
   "file_extension": ".py",
   "mimetype": "text/x-python",
   "name": "python",
   "nbconvert_exporter": "python",
   "pygments_lexer": "ipython3",
   "version": "3.7.4"
  }
 },
 "nbformat": 4,
 "nbformat_minor": 2
}
