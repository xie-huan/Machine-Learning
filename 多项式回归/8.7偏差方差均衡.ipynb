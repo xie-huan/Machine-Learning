{
 "cells": [
  {
   "cell_type": "markdown",
   "metadata": {},
   "source": [
    "![](偏差和方差的概念.png)"
   ]
  },
  {
   "cell_type": "markdown",
   "metadata": {},
   "source": [
    "模型误差 = 偏差 + 方差 + 不可避免的误差  \n",
    "\n",
    "导致偏差的主要原因：  \n",
    "- 对问题本身的假设不正确，如对非线性数据使用线性回归\n",
    "- 欠拟合underfitting\n",
    "\n",
    "导致方差的主要原因： \n",
    "- 数据的一点点扰动都会较大地影响模型\n",
    "- 使用的模型太复杂，如高阶多项式回归\n",
    "- 过拟合overfitting"
   ]
  },
  {
   "cell_type": "markdown",
   "metadata": {},
   "source": [
    "一些算法是天生的高方差算法，如kNN  \n",
    "因为kNN算法需要对每个数据点进行观测，导致对数据很敏感  \n",
    "非参数学习通常都是高方差算法。因为不对数据进行任何假设，完全依赖于数据  \n",
    "\n",
    "\n",
    "有一些算法天生就是高偏差算法，如线性回归  \n",
    "参数学习通常都是高偏差算法。因为对数据具有极强的假设。  \n",
    "\n",
    "大多数算法具有相应的参数，可以调整偏差和方差  \n",
    "如kNN中的k（减少方差），  \n",
    "如线性回归中使用多项式回归(减小偏差）  \n",
    "\n",
    "偏差和方差通常是矛盾的  \n",
    "降低偏差，会提高方差  \n",
    "降低方差，会提高偏差  \n",
    "\n",
    "这就需要偏差方差均衡  "
   ]
  },
  {
   "cell_type": "markdown",
   "metadata": {},
   "source": [
    "机器学习的主要挑战，来自于方差  \n",
    "解决高方差的通常手段：  \n",
    "1. 降低模型复杂度，如减小多项式回归中的degree\n",
    "2. 减少数据维度；降噪\n",
    "3. 增加样本数\n",
    "4. 使用验证集\n",
    "5. **模型正则化**"
   ]
  },
  {
   "cell_type": "code",
   "execution_count": null,
   "metadata": {},
   "outputs": [],
   "source": []
  }
 ],
 "metadata": {
  "kernelspec": {
   "display_name": "Python 3",
   "language": "python",
   "name": "python3"
  },
  "language_info": {
   "codemirror_mode": {
    "name": "ipython",
    "version": 3
   },
   "file_extension": ".py",
   "mimetype": "text/x-python",
   "name": "python",
   "nbconvert_exporter": "python",
   "pygments_lexer": "ipython3",
   "version": "3.7.4"
  }
 },
 "nbformat": 4,
 "nbformat_minor": 2
}
