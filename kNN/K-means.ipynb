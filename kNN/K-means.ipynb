{
 "cells": [
  {
   "cell_type": "markdown",
   "metadata": {},
   "source": [
    "### KNN"
   ]
  },
  {
   "cell_type": "code",
   "execution_count": 12,
   "metadata": {},
   "outputs": [],
   "source": [
    "import numpy as np\n",
    "import matplotlib.pyplot as plt"
   ]
  },
  {
   "cell_type": "code",
   "execution_count": 13,
   "metadata": {},
   "outputs": [],
   "source": [
    "raw_data_X = [\n",
    "    [1,1],\n",
    "    [1.3,2],\n",
    "    [1.2,3],\n",
    "    [4,1],\n",
    "    [5,2],\n",
    "    [3.7,1],\n",
    "]\n",
    "raw_data_y = [0,0,0,1,1,1]"
   ]
  },
  {
   "cell_type": "code",
   "execution_count": 14,
   "metadata": {},
   "outputs": [],
   "source": [
    "X_train = np.array(raw_data_X)\n",
    "y_train = np.array(raw_data_y)"
   ]
  },
  {
   "cell_type": "code",
   "execution_count": 15,
   "metadata": {},
   "outputs": [
    {
     "data": {
      "image/png": "[encoded data removed]",
      "text/plain": [
       "<Figure size 432x288 with 1 Axes>"
      ]
     },
     "metadata": {
      "needs_background": "light"
     },
     "output_type": "display_data"
    }
   ],
   "source": [
    "\"\"\"\n",
    "散点图，scatter（x坐标，y坐标，颜色）\n",
    "\"\"\"\n",
    "plt.scatter(X_train[y_train==0,0],X_train[y_train==0,1],color='g')\n",
    "plt.scatter(X_train[y_train==1,0],X_train[y_train==1,1],color='r')\n",
    "plt.show()"
   ]
  },
  {
   "cell_type": "code",
   "execution_count": 22,
   "metadata": {},
   "outputs": [],
   "source": [
    "x = np.array([4,2])"
   ]
  },
  {
   "cell_type": "code",
   "execution_count": 23,
   "metadata": {},
   "outputs": [
    {
     "data": {
      "image/png": "[encoded data removed]",
      "text/plain": [
       "<Figure size 432x288 with 1 Axes>"
      ]
     },
     "metadata": {
      "needs_background": "light"
     },
     "output_type": "display_data"
    }
   ],
   "source": [
    "plt.scatter(X_train[y_train==0,0],X_train[y_train==0,1],color='g')\n",
    "plt.scatter(X_train[y_train==1,0],X_train[y_train==1,1],color='r')\n",
    "plt.scatter(x[0],x[1],color='b')\n",
    "plt.show()"
   ]
  },
  {
   "cell_type": "markdown",
   "metadata": {},
   "source": [
    "### kNN的过程"
   ]
  },
  {
   "cell_type": "code",
   "execution_count": 39,
   "metadata": {},
   "outputs": [
    {
     "data": {
      "text/plain": [
       "[3.1622776601683795, 2.7, 2.973213749463701, 1.0, 1.0, 1.0440306508910548]"
      ]
     },
     "execution_count": 39,
     "metadata": {},
     "output_type": "execute_result"
    }
   ],
   "source": [
    "from math import sqrt\n",
    "distances = []\n",
    "\n",
    "# 欧拉距离：sqrt（（xi - xj）*（xi - xj） + （yi - yj）*（yi - yj））\n",
    "for x_train in X_train:\n",
    "    d = sqrt(np.sum((x_train - x) ** 2))\n",
    "    distances.append(d)\n",
    "\n",
    "\n",
    "\"\"\"\n",
    "###################################################################\n",
    "\n",
    "distances = [sqrt(np.sum((x_train - x)**2)) for x_train in X_train]   更加pythonic\n",
    "\n",
    "###################################################################\n",
    "\"\"\"\n",
    "distances = [sqrt(np.sum((x_train - x)**2)) for x_train in X_train]\n",
    "\n",
    "distances\n"
   ]
  },
  {
   "cell_type": "code",
   "execution_count": 29,
   "metadata": {},
   "outputs": [],
   "source": [
    "nearest = np.argsort(distances)"
   ]
  },
  {
   "cell_type": "code",
   "execution_count": 32,
   "metadata": {},
   "outputs": [],
   "source": [
    "k = 4"
   ]
  },
  {
   "cell_type": "code",
   "execution_count": 33,
   "metadata": {},
   "outputs": [
    {
     "data": {
      "text/plain": [
       "[1, 1, 1, 0]"
      ]
     },
     "execution_count": 33,
     "metadata": {},
     "output_type": "execute_result"
    }
   ],
   "source": [
    "top_k_y = [y_train[i] for i in nearest[:k]]\n",
    "top_k_y"
   ]
  },
  {
   "cell_type": "code",
   "execution_count": 34,
   "metadata": {},
   "outputs": [
    {
     "data": {
      "text/plain": [
       "Counter({1: 3, 0: 1})"
      ]
     },
     "execution_count": 34,
     "metadata": {},
     "output_type": "execute_result"
    }
   ],
   "source": [
    "from collections import Counter\n",
    "Counter(top_k_y)"
   ]
  },
  {
   "cell_type": "code",
   "execution_count": 35,
   "metadata": {},
   "outputs": [
    {
     "data": {
      "text/plain": [
       "[(1, 3)]"
      ]
     },
     "execution_count": 35,
     "metadata": {},
     "output_type": "execute_result"
    }
   ],
   "source": [
    "votes = Counter(top_k_y)\n",
    "votes.most_common(1)"
   ]
  },
  {
   "cell_type": "code",
   "execution_count": 36,
   "metadata": {},
   "outputs": [
    {
     "data": {
      "text/plain": [
       "1"
      ]
     },
     "execution_count": 36,
     "metadata": {},
     "output_type": "execute_result"
    }
   ],
   "source": [
    "votes.most_common(1)[0][0]"
   ]
  },
  {
   "cell_type": "code",
   "execution_count": 40,
   "metadata": {},
   "outputs": [],
   "source": [
    "predict_y = votes.most_common(1)[0][0]"
   ]
  },
  {
   "cell_type": "markdown",
   "metadata": {},
   "source": [
    "#### kNN复习作业:\n",
    "##### 实现kNN算法\n",
    "数据：\n",
    "raw_data_X = [\n",
    "    [1,1],\n",
    "    [1.3,2],\n",
    "    [1.2,3],\n",
    "    [4,1],\n",
    "    [5,2],\n",
    "    [3.7,1],\n",
    "]\n",
    "raw_data_y = [0,0,0,1,1,1]\n",
    "x = [4,2]"
   ]
  },
  {
   "cell_type": "code",
   "execution_count": 42,
   "metadata": {},
   "outputs": [],
   "source": [
    "# 原始数据\n",
    "raw_data_X = [ [1,1], [1.3,2], [1.2,3], [4,1], [5,2], [3.7,1]] \n",
    "raw_data_y = [0,0,0,1,1,1] \n",
    "x = [4,2]\n",
    "\n",
    "# 处理的数据\n",
    "X_train = np.array(raw_data_X)\n",
    "y_train = np.array(raw_data_y)\n",
    "x = np.array(x)"
   ]
  },
  {
   "cell_type": "code",
   "execution_count": 58,
   "metadata": {},
   "outputs": [
    {
     "name": "stdout",
     "output_type": "stream",
     "text": [
      "1\n"
     ]
    }
   ],
   "source": [
    "from math import sqrt\n",
    "from collections import Counter\n",
    "\n",
    "\n",
    "\"\"\"\n",
    "注意1：Counter()的使用方法\n",
    "注意2：most_common()的使用方法\n",
    "\"\"\"\n",
    "def classify(x):\n",
    "    k = 4\n",
    "    distances = []\n",
    "#     for x_train in X_train:\n",
    "#         dis = sqrt(np.sum((x_train - x)**2))\n",
    "#         distances.append(dis)\n",
    "    \n",
    "    distances = np.array([sqrt(np.sum((x_train - x)**2)) for x_train in X_train])\n",
    "    \n",
    "    topK_y = y_train[np.argsort(distances)[:k]]\n",
    "    \n",
    "    votes = Counter(topK_y)  \n",
    "    \n",
    "    predict_y = votes.most_common(1)[0][0]\n",
    "    print(predict_y)\n",
    "\n",
    "classify(x)"
   ]
  },
  {
   "cell_type": "code",
   "execution_count": 60,
   "metadata": {},
   "outputs": [],
   "source": [
    "%run D:/Work/Python/Machine_Learning/kNN/kNN.py"
   ]
  },
  {
   "cell_type": "code",
   "execution_count": 61,
   "metadata": {},
   "outputs": [
    {
     "data": {
      "text/plain": [
       "1"
      ]
     },
     "execution_count": 61,
     "metadata": {},
     "output_type": "execute_result"
    }
   ],
   "source": [
    "kNN_classify(k,X_train,y_train,x)"
   ]
  },
  {
   "cell_type": "markdown",
   "metadata": {},
   "source": [
    "### 使用scikit-learn中的kNN"
   ]
  },
  {
   "cell_type": "code",
   "execution_count": 2,
   "metadata": {},
   "outputs": [],
   "source": [
    "import numpy as np\n",
    "# 原始数据\n",
    "raw_data_X = [ [1,1], [1.3,2], [1.2,3], [4,1], [5,2], [3.7,1]] \n",
    "raw_data_y = [0,0,0,1,1,1] \n",
    "x = [4,2]\n",
    "\n",
    "# 处理的数据\n",
    "X_train = np.array(raw_data_X)\n",
    "y_train = np.array(raw_data_y)\n",
    "x = np.array(x)"
   ]
  },
  {
   "cell_type": "code",
   "execution_count": 8,
   "metadata": {},
   "outputs": [
    {
     "data": {
      "text/plain": [
       "array([1])"
      ]
     },
     "execution_count": 8,
     "metadata": {},
     "output_type": "execute_result"
    }
   ],
   "source": [
    "from sklearn.neighbors import KNeighborsClassifier\n",
    "kNN_classifier = KNeighborsClassifier(n_neighbors=4)\n",
    "kNN_classifier.fit(X_train,y_train)\n",
    "kNN_classifier.predict(x.reshape(1,-1))#接口是矩阵，所以，要reshape"
   ]
  },
  {
   "cell_type": "code",
   "execution_count": 19,
   "metadata": {},
   "outputs": [
    {
     "name": "stdout",
     "output_type": "stream",
     "text": [
      "[1]\n"
     ]
    }
   ],
   "source": [
    "%run D:/Work/Python/Machine_Learning/kNN/kNN.py"
   ]
  },
  {
   "cell_type": "code",
   "execution_count": 20,
   "metadata": {},
   "outputs": [],
   "source": [
    "import numpy as np\n",
    "# 原始数据\n",
    "raw_data_X = [ [1,1], [1.3,2], [1.2,3], [4,1], [5,2], [3.7,1]] \n",
    "raw_data_y = [0,0,0,1,1,1] \n",
    "x = [4,2]\n",
    "\n",
    "# 处理的数据\n",
    "X_train = np.array(raw_data_X)\n",
    "y_train = np.array(raw_data_y)\n",
    "x = np.array(x)"
   ]
  },
  {
   "cell_type": "code",
   "execution_count": 22,
   "metadata": {},
   "outputs": [
    {
     "data": {
      "text/plain": [
       "array([1])"
      ]
     },
     "execution_count": 22,
     "metadata": {},
     "output_type": "execute_result"
    }
   ],
   "source": [
    "kNN_classifier = KNNClassifier(4)\n",
    "kNN_classifier.fit(X_train,y_train)\n",
    "kNN_classifier.predict(x.reshape(1,-1))#接口是矩阵，所以，要reshape"
   ]
  }
 ],
 "metadata": {
  "kernelspec": {
   "display_name": "Python 3",
   "language": "python",
   "name": "python3"
  },
  "language_info": {
   "codemirror_mode": {
    "name": "ipython",
    "version": 3
   },
   "file_extension": ".py",
   "mimetype": "text/x-python",
   "name": "python",
   "nbconvert_exporter": "python",
   "pygments_lexer": "ipython3",
   "version": "3.7.4"
  }
 },
 "nbformat": 4,
 "nbformat_minor": 2
}
