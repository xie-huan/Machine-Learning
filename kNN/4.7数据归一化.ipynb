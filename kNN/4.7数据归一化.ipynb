{
 "cells": [
  {
   "cell_type": "markdown",
   "metadata": {},
   "source": [
    "# Feature Scaling"
   ]
  },
  {
   "cell_type": "markdown",
   "metadata": {},
   "source": [
    "## 数据归一化例子\n",
    "![](数据归一化例子.png)"
   ]
  },
  {
   "cell_type": "markdown",
   "metadata": {},
   "source": [
    "## 解决方案\n",
    "- 将所有数据映射到同一尺度\n",
    "\n",
    "### 最值归一化normalization：把所有数据映射到0-1之间（x - min） / （max - min）\n",
    "- 适用于分布有明显的边界\n",
    "- 受outlier影响较大\n",
    "\n",
    "### 均值方差归一化：把所有数据归一到均值为0，方差为1的分布中（x - mean) / s\n",
    "- "
   ]
  },
  {
   "cell_type": "code",
   "execution_count": 1,
   "metadata": {},
   "outputs": [],
   "source": [
    "import numpy as np\n",
    "import matplotlib.pyplot as plt"
   ]
  },
  {
   "cell_type": "code",
   "execution_count": 2,
   "metadata": {},
   "outputs": [
    {
     "data": {
      "text/plain": [
       "array([35, 29, 62, 71, 76, 55,  7,  2, 69, 65, 12, 62, 62, 24, 20, 10, 43,\n",
       "       72, 22, 98, 88, 18, 48, 32, 38, 54, 74, 81, 30, 83, 70, 58, 53, 93,\n",
       "       47, 10, 72, 10, 24, 50, 32, 99, 74, 87, 59, 38, 38, 42, 86, 41, 23,\n",
       "       59, 41, 68, 40, 94,  5, 68, 83, 54, 49, 63, 54, 44, 43, 53, 90, 79,\n",
       "       43, 89, 37,  0, 85, 70, 21, 20, 87, 58, 98, 33, 18, 81, 74, 94, 50,\n",
       "       61, 28, 34, 14, 16, 48, 45, 56, 94, 60, 39, 91, 22, 28, 52])"
      ]
     },
     "execution_count": 2,
     "metadata": {},
     "output_type": "execute_result"
    }
   ],
   "source": [
    "# 最值归一化\n",
    "x = np.random.randint(0,100,size=100)\n",
    "x"
   ]
  },
  {
   "cell_type": "code",
   "execution_count": 3,
   "metadata": {},
   "outputs": [
    {
     "data": {
      "text/plain": [
       "array([0.35353535, 0.29292929, 0.62626263, 0.71717172, 0.76767677,\n",
       "       0.55555556, 0.07070707, 0.02020202, 0.6969697 , 0.65656566,\n",
       "       0.12121212, 0.62626263, 0.62626263, 0.24242424, 0.2020202 ,\n",
       "       0.1010101 , 0.43434343, 0.72727273, 0.22222222, 0.98989899,\n",
       "       0.88888889, 0.18181818, 0.48484848, 0.32323232, 0.38383838,\n",
       "       0.54545455, 0.74747475, 0.81818182, 0.3030303 , 0.83838384,\n",
       "       0.70707071, 0.58585859, 0.53535354, 0.93939394, 0.47474747,\n",
       "       0.1010101 , 0.72727273, 0.1010101 , 0.24242424, 0.50505051,\n",
       "       0.32323232, 1.        , 0.74747475, 0.87878788, 0.5959596 ,\n",
       "       0.38383838, 0.38383838, 0.42424242, 0.86868687, 0.41414141,\n",
       "       0.23232323, 0.5959596 , 0.41414141, 0.68686869, 0.4040404 ,\n",
       "       0.94949495, 0.05050505, 0.68686869, 0.83838384, 0.54545455,\n",
       "       0.49494949, 0.63636364, 0.54545455, 0.44444444, 0.43434343,\n",
       "       0.53535354, 0.90909091, 0.7979798 , 0.43434343, 0.8989899 ,\n",
       "       0.37373737, 0.        , 0.85858586, 0.70707071, 0.21212121,\n",
       "       0.2020202 , 0.87878788, 0.58585859, 0.98989899, 0.33333333,\n",
       "       0.18181818, 0.81818182, 0.74747475, 0.94949495, 0.50505051,\n",
       "       0.61616162, 0.28282828, 0.34343434, 0.14141414, 0.16161616,\n",
       "       0.48484848, 0.45454545, 0.56565657, 0.94949495, 0.60606061,\n",
       "       0.39393939, 0.91919192, 0.22222222, 0.28282828, 0.52525253])"
      ]
     },
     "execution_count": 3,
     "metadata": {},
     "output_type": "execute_result"
    }
   ],
   "source": [
    "(x - np.min(x)) / (np.max(x) - np.min(x))"
   ]
  },
  {
   "cell_type": "code",
   "execution_count": 10,
   "metadata": {},
   "outputs": [
    {
     "data": {
      "text/plain": [
       "array([[44, 24],\n",
       "       [18, 52],\n",
       "       [ 9,  0],\n",
       "       [64, 58],\n",
       "       [64,  1],\n",
       "       [29,  8],\n",
       "       [ 1, 27],\n",
       "       [85, 24],\n",
       "       [47, 74],\n",
       "       [26, 49],\n",
       "       [90, 98],\n",
       "       [24, 83],\n",
       "       [84, 13],\n",
       "       [72,  2],\n",
       "       [73, 91],\n",
       "       [23, 44],\n",
       "       [ 6,  7],\n",
       "       [18, 30],\n",
       "       [59, 28],\n",
       "       [92, 69],\n",
       "       [85, 51],\n",
       "       [92,  4],\n",
       "       [98, 21],\n",
       "       [96, 87],\n",
       "       [54, 38],\n",
       "       [31, 56],\n",
       "       [90, 61],\n",
       "       [78, 45],\n",
       "       [71, 29],\n",
       "       [87, 47],\n",
       "       [27,  1],\n",
       "       [43, 67],\n",
       "       [95, 74],\n",
       "       [45,  9],\n",
       "       [94, 14],\n",
       "       [56, 62],\n",
       "       [ 0, 90],\n",
       "       [73, 95],\n",
       "       [48,  1],\n",
       "       [23, 32],\n",
       "       [21, 47],\n",
       "       [ 9, 18],\n",
       "       [90, 48],\n",
       "       [15, 69],\n",
       "       [33, 63],\n",
       "       [45, 64],\n",
       "       [63, 67],\n",
       "       [63, 52],\n",
       "       [65,  9],\n",
       "       [84, 75]])"
      ]
     },
     "execution_count": 10,
     "metadata": {},
     "output_type": "execute_result"
    }
   ],
   "source": [
    "X = np.random.randint(0,100,(50,2))\n",
    "X"
   ]
  },
  {
   "cell_type": "code",
   "execution_count": 11,
   "metadata": {},
   "outputs": [
    {
     "data": {
      "text/plain": [
       "array([[44., 24.],\n",
       "       [18., 52.],\n",
       "       [ 9.,  0.],\n",
       "       [64., 58.],\n",
       "       [64.,  1.],\n",
       "       [29.,  8.],\n",
       "       [ 1., 27.],\n",
       "       [85., 24.],\n",
       "       [47., 74.],\n",
       "       [26., 49.],\n",
       "       [90., 98.],\n",
       "       [24., 83.],\n",
       "       [84., 13.],\n",
       "       [72.,  2.],\n",
       "       [73., 91.],\n",
       "       [23., 44.],\n",
       "       [ 6.,  7.],\n",
       "       [18., 30.],\n",
       "       [59., 28.],\n",
       "       [92., 69.],\n",
       "       [85., 51.],\n",
       "       [92.,  4.],\n",
       "       [98., 21.],\n",
       "       [96., 87.],\n",
       "       [54., 38.],\n",
       "       [31., 56.],\n",
       "       [90., 61.],\n",
       "       [78., 45.],\n",
       "       [71., 29.],\n",
       "       [87., 47.],\n",
       "       [27.,  1.],\n",
       "       [43., 67.],\n",
       "       [95., 74.],\n",
       "       [45.,  9.],\n",
       "       [94., 14.],\n",
       "       [56., 62.],\n",
       "       [ 0., 90.],\n",
       "       [73., 95.],\n",
       "       [48.,  1.],\n",
       "       [23., 32.],\n",
       "       [21., 47.],\n",
       "       [ 9., 18.],\n",
       "       [90., 48.],\n",
       "       [15., 69.],\n",
       "       [33., 63.],\n",
       "       [45., 64.],\n",
       "       [63., 67.],\n",
       "       [63., 52.],\n",
       "       [65.,  9.],\n",
       "       [84., 75.]])"
      ]
     },
     "execution_count": 11,
     "metadata": {},
     "output_type": "execute_result"
    }
   ],
   "source": [
    "X = np.array(X,dtype=float)\n",
    "X"
   ]
  },
  {
   "cell_type": "code",
   "execution_count": 12,
   "metadata": {},
   "outputs": [
    {
     "data": {
      "text/plain": [
       "array([[4.48979592e-01, 2.40000000e+01],\n",
       "       [1.83673469e-01, 5.20000000e+01],\n",
       "       [9.18367347e-02, 0.00000000e+00],\n",
       "       [6.53061224e-01, 5.80000000e+01],\n",
       "       [6.53061224e-01, 1.00000000e+00],\n",
       "       [2.95918367e-01, 8.00000000e+00],\n",
       "       [1.02040816e-02, 2.70000000e+01],\n",
       "       [8.67346939e-01, 2.40000000e+01],\n",
       "       [4.79591837e-01, 7.40000000e+01],\n",
       "       [2.65306122e-01, 4.90000000e+01],\n",
       "       [9.18367347e-01, 9.80000000e+01],\n",
       "       [2.44897959e-01, 8.30000000e+01],\n",
       "       [8.57142857e-01, 1.30000000e+01],\n",
       "       [7.34693878e-01, 2.00000000e+00],\n",
       "       [7.44897959e-01, 9.10000000e+01],\n",
       "       [2.34693878e-01, 4.40000000e+01],\n",
       "       [6.12244898e-02, 7.00000000e+00],\n",
       "       [1.83673469e-01, 3.00000000e+01],\n",
       "       [6.02040816e-01, 2.80000000e+01],\n",
       "       [9.38775510e-01, 6.90000000e+01],\n",
       "       [8.67346939e-01, 5.10000000e+01],\n",
       "       [9.38775510e-01, 4.00000000e+00],\n",
       "       [1.00000000e+00, 2.10000000e+01],\n",
       "       [9.79591837e-01, 8.70000000e+01],\n",
       "       [5.51020408e-01, 3.80000000e+01],\n",
       "       [3.16326531e-01, 5.60000000e+01],\n",
       "       [9.18367347e-01, 6.10000000e+01],\n",
       "       [7.95918367e-01, 4.50000000e+01],\n",
       "       [7.24489796e-01, 2.90000000e+01],\n",
       "       [8.87755102e-01, 4.70000000e+01],\n",
       "       [2.75510204e-01, 1.00000000e+00],\n",
       "       [4.38775510e-01, 6.70000000e+01],\n",
       "       [9.69387755e-01, 7.40000000e+01],\n",
       "       [4.59183673e-01, 9.00000000e+00],\n",
       "       [9.59183673e-01, 1.40000000e+01],\n",
       "       [5.71428571e-01, 6.20000000e+01],\n",
       "       [0.00000000e+00, 9.00000000e+01],\n",
       "       [7.44897959e-01, 9.50000000e+01],\n",
       "       [4.89795918e-01, 1.00000000e+00],\n",
       "       [2.34693878e-01, 3.20000000e+01],\n",
       "       [2.14285714e-01, 4.70000000e+01],\n",
       "       [9.18367347e-02, 1.80000000e+01],\n",
       "       [9.18367347e-01, 4.80000000e+01],\n",
       "       [1.53061224e-01, 6.90000000e+01],\n",
       "       [3.36734694e-01, 6.30000000e+01],\n",
       "       [4.59183673e-01, 6.40000000e+01],\n",
       "       [6.42857143e-01, 6.70000000e+01],\n",
       "       [6.42857143e-01, 5.20000000e+01],\n",
       "       [6.63265306e-01, 9.00000000e+00],\n",
       "       [8.57142857e-01, 7.50000000e+01]])"
      ]
     },
     "execution_count": 12,
     "metadata": {},
     "output_type": "execute_result"
    }
   ],
   "source": [
    "X[:,0] = ( X[:,0] - np.min(X[:,0]) ) / (np.max(X[:,0]) - np.min(X[:,0]))\n",
    "X"
   ]
  },
  {
   "cell_type": "code",
   "execution_count": 13,
   "metadata": {},
   "outputs": [],
   "source": [
    "X[:,1] = ( X[:,1] - np.min(X[:,1]) ) / (np.max(X[:,1]) - np.min(X[:,1]))"
   ]
  },
  {
   "cell_type": "code",
   "execution_count": 14,
   "metadata": {},
   "outputs": [
    {
     "data": {
      "text/plain": [
       "array([[0.44897959, 0.24489796],\n",
       "       [0.18367347, 0.53061224],\n",
       "       [0.09183673, 0.        ],\n",
       "       [0.65306122, 0.59183673],\n",
       "       [0.65306122, 0.01020408],\n",
       "       [0.29591837, 0.08163265],\n",
       "       [0.01020408, 0.2755102 ],\n",
       "       [0.86734694, 0.24489796],\n",
       "       [0.47959184, 0.75510204],\n",
       "       [0.26530612, 0.5       ],\n",
       "       [0.91836735, 1.        ],\n",
       "       [0.24489796, 0.84693878],\n",
       "       [0.85714286, 0.13265306],\n",
       "       [0.73469388, 0.02040816],\n",
       "       [0.74489796, 0.92857143],\n",
       "       [0.23469388, 0.44897959],\n",
       "       [0.06122449, 0.07142857],\n",
       "       [0.18367347, 0.30612245],\n",
       "       [0.60204082, 0.28571429],\n",
       "       [0.93877551, 0.70408163],\n",
       "       [0.86734694, 0.52040816],\n",
       "       [0.93877551, 0.04081633],\n",
       "       [1.        , 0.21428571],\n",
       "       [0.97959184, 0.8877551 ],\n",
       "       [0.55102041, 0.3877551 ],\n",
       "       [0.31632653, 0.57142857],\n",
       "       [0.91836735, 0.62244898],\n",
       "       [0.79591837, 0.45918367],\n",
       "       [0.7244898 , 0.29591837],\n",
       "       [0.8877551 , 0.47959184],\n",
       "       [0.2755102 , 0.01020408],\n",
       "       [0.43877551, 0.68367347],\n",
       "       [0.96938776, 0.75510204],\n",
       "       [0.45918367, 0.09183673],\n",
       "       [0.95918367, 0.14285714],\n",
       "       [0.57142857, 0.63265306],\n",
       "       [0.        , 0.91836735],\n",
       "       [0.74489796, 0.96938776],\n",
       "       [0.48979592, 0.01020408],\n",
       "       [0.23469388, 0.32653061],\n",
       "       [0.21428571, 0.47959184],\n",
       "       [0.09183673, 0.18367347],\n",
       "       [0.91836735, 0.48979592],\n",
       "       [0.15306122, 0.70408163],\n",
       "       [0.33673469, 0.64285714],\n",
       "       [0.45918367, 0.65306122],\n",
       "       [0.64285714, 0.68367347],\n",
       "       [0.64285714, 0.53061224],\n",
       "       [0.66326531, 0.09183673],\n",
       "       [0.85714286, 0.76530612]])"
      ]
     },
     "execution_count": 14,
     "metadata": {},
     "output_type": "execute_result"
    }
   ],
   "source": [
    "X"
   ]
  },
  {
   "cell_type": "code",
   "execution_count": 16,
   "metadata": {},
   "outputs": [
    {
     "data": {
      "image/png": "[encoded data removed]",
      "text/plain": [
       "<Figure size 432x288 with 1 Axes>"
      ]
     },
     "metadata": {
      "needs_background": "light"
     },
     "output_type": "display_data"
    }
   ],
   "source": [
    "plt.scatter(X[:,0],X[:,1])\n",
    "plt.show()"
   ]
  },
  {
   "cell_type": "code",
   "execution_count": 17,
   "metadata": {},
   "outputs": [
    {
     "data": {
      "text/plain": [
       "array([[ 4., 25.],\n",
       "       [40., 88.],\n",
       "       [69.,  3.],\n",
       "       [73., 15.],\n",
       "       [57.,  5.],\n",
       "       [47., 22.],\n",
       "       [35., 37.],\n",
       "       [ 5., 48.],\n",
       "       [14., 98.],\n",
       "       [71.,  3.],\n",
       "       [61., 45.],\n",
       "       [34., 83.],\n",
       "       [14., 87.],\n",
       "       [77., 44.],\n",
       "       [23., 97.],\n",
       "       [85., 10.],\n",
       "       [30., 64.],\n",
       "       [30., 42.],\n",
       "       [53., 58.],\n",
       "       [59.,  9.],\n",
       "       [66., 78.],\n",
       "       [76., 49.],\n",
       "       [46., 68.],\n",
       "       [38., 15.],\n",
       "       [ 1., 21.],\n",
       "       [51., 43.],\n",
       "       [30., 17.],\n",
       "       [86., 61.],\n",
       "       [63., 75.],\n",
       "       [ 7., 74.],\n",
       "       [90.,  0.],\n",
       "       [52.,  0.],\n",
       "       [87., 59.],\n",
       "       [42., 85.],\n",
       "       [21., 97.],\n",
       "       [73., 46.],\n",
       "       [92., 93.],\n",
       "       [44., 32.],\n",
       "       [25., 26.],\n",
       "       [78., 23.],\n",
       "       [20., 58.],\n",
       "       [70., 10.],\n",
       "       [ 5.,  2.],\n",
       "       [ 1., 75.],\n",
       "       [73., 60.],\n",
       "       [55., 21.],\n",
       "       [83., 66.],\n",
       "       [38., 21.],\n",
       "       [16., 54.],\n",
       "       [85., 97.]])"
      ]
     },
     "execution_count": 17,
     "metadata": {},
     "output_type": "execute_result"
    }
   ],
   "source": [
    "# 均值方差归一化\n",
    "X = np.random.randint(0,100,(50,2))\n",
    "X = np.array(X,dtype = float)\n",
    "X"
   ]
  },
  {
   "cell_type": "code",
   "execution_count": 18,
   "metadata": {},
   "outputs": [
    {
     "data": {
      "image/png": "[encoded data removed]",
      "text/plain": [
       "<Figure size 432x288 with 1 Axes>"
      ]
     },
     "metadata": {
      "needs_background": "light"
     },
     "output_type": "display_data"
    }
   ],
   "source": [
    "X[:,0] = (X[:,0] - np.mean(X[:,0])) / np.std(X[:,0])\n",
    "X[:,1] = (X[:,1] - np.mean(X[:,1])) / np.std(X[:,1])\n",
    "plt.scatter(X[:,0],X[:,1])\n",
    "plt.show()"
   ]
  },
  {
   "cell_type": "code",
   "execution_count": 19,
   "metadata": {},
   "outputs": [
    {
     "data": {
      "text/plain": [
       "5.773159728050814e-17"
      ]
     },
     "execution_count": 19,
     "metadata": {},
     "output_type": "execute_result"
    }
   ],
   "source": [
    "np.mean(X[:,0])"
   ]
  },
  {
   "cell_type": "code",
   "execution_count": 20,
   "metadata": {},
   "outputs": [
    {
     "data": {
      "text/plain": [
       "1.0"
      ]
     },
     "execution_count": 20,
     "metadata": {},
     "output_type": "execute_result"
    }
   ],
   "source": [
    "np.std(X[:,0])"
   ]
  },
  {
   "cell_type": "code",
   "execution_count": null,
   "metadata": {},
   "outputs": [],
   "source": []
  }
 ],
 "metadata": {
  "kernelspec": {
   "display_name": "Python 3",
   "language": "python",
   "name": "python3"
  },
  "language_info": {
   "codemirror_mode": {
    "name": "ipython",
    "version": 3
   },
   "file_extension": ".py",
   "mimetype": "text/x-python",
   "name": "python",
   "nbconvert_exporter": "python",
   "pygments_lexer": "ipython3",
   "version": "3.7.4"
  }
 },
 "nbformat": 4,
 "nbformat_minor": 2
}
