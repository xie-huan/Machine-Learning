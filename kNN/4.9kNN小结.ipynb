{
 "cells": [
  {
   "cell_type": "markdown",
   "metadata": {},
   "source": [
    "# 更多有关k近邻算法\n",
    "- 优点：\n",
    "    - 解决分类问题\n",
    "    - 而且天然解决多分类问题\n",
    "    - 思想简单\n",
    "    - k近邻可以解决回归问题\n",
    "\n",
    "- 缺点：\n",
    "    - 效率低下\n",
    "        - 若训练集有m个样本，n个特征，则每预测一个新的数据，时间复杂度为O(m*n)\n",
    "        - 可以使用KD-tree，Ball-tree来优化\n",
    "    - 高度数据相关\n",
    "    - 预测结果具有不可解释性\n",
    "    - 维数灾难，解决办法：降维\n",
    "    ![](维数灾难.png)"
   ]
  },
  {
   "cell_type": "markdown",
   "metadata": {},
   "source": [
    "# 流程回顾\n",
    "1. 将数据分为**训练集**、**测试集**\n",
    "2. 将数据归一化\n",
    "    1. 先将训练集归一化，得到Scalar\n",
    "    2. 将测试集用训练集得到的Scalar进行归一化\n",
    "3. 将归一化的训练集交给训练函数fit出模型\n",
    "4. 将归一化的测试集交给模型给出预测结果，算出分数（准确度）\n",
    "5. 其中还需要使用网格化搜索寻找最好的超参数"
   ]
  },
  {
   "cell_type": "code",
   "execution_count": null,
   "metadata": {},
   "outputs": [],
   "source": []
  }
 ],
 "metadata": {
  "kernelspec": {
   "display_name": "Python 3",
   "language": "python",
   "name": "python3"
  },
  "language_info": {
   "codemirror_mode": {
    "name": "ipython",
    "version": 3
   },
   "file_extension": ".py",
   "mimetype": "text/x-python",
   "name": "python",
   "nbconvert_exporter": "python",
   "pygments_lexer": "ipython3",
   "version": "3.7.4"
  }
 },
 "nbformat": 4,
 "nbformat_minor": 2
}
