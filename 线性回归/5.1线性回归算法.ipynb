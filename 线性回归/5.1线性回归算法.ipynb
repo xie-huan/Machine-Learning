{
 "cells": [
  {
   "cell_type": "markdown",
   "metadata": {},
   "source": [
    "# 线性回归算法\n",
    "- 解决回归问题\n",
    "- 思想简单，容易实现\n",
    "- 许多强大的非线性模型的基础\n",
    "- 结果具有很好的可解释行\n",
    "- 蕴含机器学习中许多重要的思想"
   ]
  },
  {
   "cell_type": "markdown",
   "metadata": {},
   "source": [
    "# 区别\n",
    "- 分类问题中，横轴和纵轴都是样本特征\n",
    "- 而回归问题中，横轴是特征，纵轴是标签"
   ]
  },
  {
   "cell_type": "markdown",
   "metadata": {},
   "source": [
    "# 样本特征只有一个，称为简单线性回归"
   ]
  },
  {
   "cell_type": "markdown",
   "metadata": {},
   "source": [
    "![](简单线性回归.png)\n",
    "![](机器学习基本思路.png)\n",
    "## 许多算法都是这个思路\n",
    "- 线性回归\n",
    "- 多项式回归\n",
    "- 逻辑回归\n",
    "- SVM\n",
    "- 神经网络\n",
    "### 最优化原理- - - 凸优化"
   ]
  },
  {
   "cell_type": "markdown",
   "metadata": {},
   "source": [
    "![](最小二乘法.png)"
   ]
  },
  {
   "cell_type": "code",
   "execution_count": null,
   "metadata": {},
   "outputs": [],
   "source": []
  }
 ],
 "metadata": {
  "kernelspec": {
   "display_name": "Python 3",
   "language": "python",
   "name": "python3"
  },
  "language_info": {
   "codemirror_mode": {
    "name": "ipython",
    "version": 3
   },
   "file_extension": ".py",
   "mimetype": "text/x-python",
   "name": "python",
   "nbconvert_exporter": "python",
   "pygments_lexer": "ipython3",
   "version": "3.7.4"
  }
 },
 "nbformat": 4,
 "nbformat_minor": 2
}
