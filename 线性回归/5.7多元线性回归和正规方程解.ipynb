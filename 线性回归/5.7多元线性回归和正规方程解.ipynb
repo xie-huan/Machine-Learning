{
 "cells": [
  {
   "cell_type": "markdown",
   "metadata": {},
   "source": [
    "![](多元线性回归图示.png)"
   ]
  },
  {
   "cell_type": "markdown",
   "metadata": {},
   "source": [
    "![](目标.png)"
   ]
  },
  {
   "cell_type": "markdown",
   "metadata": {},
   "source": [
    "$\\hat{y}^{(i)}=\\theta_{0}+\\theta_{1} X_{1}^{(i)}+\\theta_{2} X_{2}^{(i)}+\\ldots+\\theta_{n} X_{n}^{(i)}$  \n",
    "$\\theta=\\left(\\theta_{0}, \\theta_{1}, \\theta_{2}, \\ldots, \\theta_{n}\\right)^{T}$  \n",
    "$\\hat{y}^{(i)}=\\theta_{0} X_{0}^{(i)}+\\theta_{1} X_{1}^{(i)}+\\theta_{2} X_{2}^{(i)}+\\ldots+\\theta_{n} X_{n}^{(i)}, X_{0}^{(i)} \\equiv 1$  \n",
    "$X^{(i)}=\\left(X_{0}^{(i)}, X_{1}^{(i)}, X_{2}^{(i)}, \\ldots, X_{n}^{(i)}\\right)$  \n",
    "$\\hat{y}^{(i)}=X^{(i)} \\cdot \\theta$  "
   ]
  },
  {
   "cell_type": "markdown",
   "metadata": {},
   "source": [
    "$X_{b}=\\left(\\begin{array}{ccccc}1 & X_{1}^{(1)} & X_{2}^{(1)} & \\dots & X_{n}^{(1)} \\\\ 1 & X_{1}^{(2)} & X_{2}^{(2)} & \\dots & X_{n}^{(2)} \\\\ \\dots & & & & \\dots \\\\ 1 & X_{1}^{(m)} & X_{2}^{(m)} & \\dots & X_{n}^{(m)}\\end{array}\\right)$  \n",
    "$\\hat{y}=X_{b} \\cdot \\theta$"
   ]
  },
  {
   "cell_type": "markdown",
   "metadata": {},
   "source": [
    "![](目标转换.png)"
   ]
  },
  {
   "cell_type": "markdown",
   "metadata": {},
   "source": [
    "多元线性回归的正规方程解（Normal Equation）：  \n",
    "$\\theta=\\left(X_{b}^{T} X_{b}\\right)^{-1} X_{b}^{T} y$  \n",
    "问题：时间复杂度高  \n",
    "优点：不需要对数据进行归一化处理  \n",
    "思考为什么？"
   ]
  },
  {
   "cell_type": "markdown",
   "metadata": {},
   "source": [
    "![](返回值.png)"
   ]
  },
  {
   "cell_type": "markdown",
   "metadata": {},
   "source": [
    " ## 实现多元线性回归模型\n",
    " "
   ]
  },
  {
   "cell_type": "code",
   "execution_count": 1,
   "metadata": {},
   "outputs": [],
   "source": [
    "import numpy as np\n",
    "import matplotlib.pyplot as plt\n",
    "from sklearn import datasets"
   ]
  },
  {
   "cell_type": "code",
   "execution_count": 2,
   "metadata": {},
   "outputs": [
    {
     "name": "stdout",
     "output_type": "stream",
     "text": [
      "X shape:(490, 13)\n",
      "y shape:(490,)\n"
     ]
    }
   ],
   "source": [
    "boston = datasets.load_boston()\n",
    "X = boston.data\n",
    "y = boston.target\n",
    "X = X[y < 50]\n",
    "y = y[y < 50]\n",
    "print(\"X shape:\" + str(X.shape))\n",
    "print(\"y shape:\" + str(y.shape))"
   ]
  },
  {
   "cell_type": "code",
   "execution_count": 3,
   "metadata": {},
   "outputs": [],
   "source": [
    "from Machine_Learning.LinearReg.model_selection import train_test_split\n",
    "X_train,X_test,y_train,y_test = train_test_split(X,y,seed=666)"
   ]
  },
  {
   "cell_type": "code",
   "execution_count": 4,
   "metadata": {},
   "outputs": [
    {
     "data": {
      "text/plain": [
       "LinearRegression()"
      ]
     },
     "execution_count": 4,
     "metadata": {},
     "output_type": "execute_result"
    }
   ],
   "source": [
    "from Machine_Learning.LinearReg.LinearRegression import LinearRegression\n",
    "reg = LinearRegression()\n",
    "reg.fit_normal(X_train,y_train)"
   ]
  },
  {
   "cell_type": "code",
   "execution_count": 5,
   "metadata": {},
   "outputs": [
    {
     "data": {
      "text/plain": [
       "array([-1.12728076e-01,  3.83088307e-02, -4.09966537e-02,  7.27425361e-01,\n",
       "       -1.39378594e+01,  3.37684332e+00, -2.39762421e-02, -1.21315896e+00,\n",
       "        2.73164472e-01, -1.40027977e-02, -8.62432754e-01,  5.37440212e-03,\n",
       "       -3.59762900e-01])"
      ]
     },
     "execution_count": 5,
     "metadata": {},
     "output_type": "execute_result"
    }
   ],
   "source": [
    "reg.coef_"
   ]
  },
  {
   "cell_type": "code",
   "execution_count": 6,
   "metadata": {},
   "outputs": [
    {
     "data": {
      "text/plain": [
       "36.81014683462021"
      ]
     },
     "execution_count": 6,
     "metadata": {},
     "output_type": "execute_result"
    }
   ],
   "source": [
    "reg.interception_"
   ]
  },
  {
   "cell_type": "code",
   "execution_count": 8,
   "metadata": {},
   "outputs": [
    {
     "data": {
      "text/plain": [
       "0.7989582352420643"
      ]
     },
     "execution_count": 8,
     "metadata": {},
     "output_type": "execute_result"
    }
   ],
   "source": [
    "reg.score(X_test,y_test)"
   ]
  },
  {
   "cell_type": "markdown",
   "metadata": {},
   "source": [
    "### 使用sklearn"
   ]
  },
  {
   "cell_type": "code",
   "execution_count": 4,
   "metadata": {},
   "outputs": [],
   "source": [
    "from sklearn.linear_model import LinearRegression\n",
    "lin_reg = LinearRegression()"
   ]
  },
  {
   "cell_type": "code",
   "execution_count": 5,
   "metadata": {},
   "outputs": [
    {
     "data": {
      "text/plain": [
       "LinearRegression(copy_X=True, fit_intercept=True, n_jobs=None, normalize=False)"
      ]
     },
     "execution_count": 5,
     "metadata": {},
     "output_type": "execute_result"
    }
   ],
   "source": [
    "lin_reg.fit(X_train,y_train)"
   ]
  },
  {
   "cell_type": "code",
   "execution_count": 6,
   "metadata": {},
   "outputs": [
    {
     "data": {
      "text/plain": [
       "array([-1.12728076e-01,  3.83088307e-02, -4.09966537e-02,  7.27425361e-01,\n",
       "       -1.39378594e+01,  3.37684332e+00, -2.39762421e-02, -1.21315896e+00,\n",
       "        2.73164472e-01, -1.40027977e-02, -8.62432754e-01,  5.37440212e-03,\n",
       "       -3.59762900e-01])"
      ]
     },
     "execution_count": 6,
     "metadata": {},
     "output_type": "execute_result"
    }
   ],
   "source": [
    "lin_reg.coef_"
   ]
  },
  {
   "cell_type": "code",
   "execution_count": 7,
   "metadata": {},
   "outputs": [
    {
     "data": {
      "text/plain": [
       "36.81014683464063"
      ]
     },
     "execution_count": 7,
     "metadata": {},
     "output_type": "execute_result"
    }
   ],
   "source": [
    "lin_reg.intercept_"
   ]
  },
  {
   "cell_type": "code",
   "execution_count": null,
   "metadata": {},
   "outputs": [],
   "source": []
  }
 ],
 "metadata": {
  "kernelspec": {
   "display_name": "Python 3",
   "language": "python",
   "name": "python3"
  },
  "language_info": {
   "codemirror_mode": {
    "name": "ipython",
    "version": 3
   },
   "file_extension": ".py",
   "mimetype": "text/x-python",
   "name": "python",
   "nbconvert_exporter": "python",
   "pygments_lexer": "ipython3",
   "version": "3.7.4"
  }
 },
 "nbformat": 4,
 "nbformat_minor": 2
}
